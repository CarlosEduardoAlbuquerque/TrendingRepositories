{
 "cells": [
  {
   "cell_type": "code",
   "execution_count": 1,
   "id": "48b08f87",
   "metadata": {},
   "outputs": [
    {
     "name": "stdout",
     "output_type": "stream",
     "text": [
      "Cotação Dolar: 5.5001\n"
     ]
    }
   ],
   "source": [
    "# criando um navegador com o selenium/WebDriver\n",
    "from selenium import webdriver # Cria o navegador\n",
    "from selenium.webdriver.common.by import By # Localiza elementos do site\n",
    "from selenium.webdriver.common.keys import Keys # Permite clicar teclas no teclado\n",
    "\n",
    "navegador = webdriver.Chrome()\n",
    "\n",
    "# entrar no google\n",
    "\n",
    "navegador.get(\"https://github.com/trending\")\n",
    "\n",
    "# pesquisar a cataçao do dolar\n",
    "\n",
    "navegador.find_element(By.XPATH,\n",
    "                       '/html/body/div[1]/div[3]/form/div[1]/div[1]/div[1]/div/div[2]/input').send_keys(\"cotaçao dolar\")\n",
    "navegador.find_element(By.XPATH,\n",
    "                       '/html/body/div[1]/div[3]/form/div[1]/div[1]/div[1]/div/div[2]/input').send_keys(Keys.ENTER)\n",
    "# pegar a cotaçao do dolar\n",
    "cotacao_dolar = navegador.find_element(By.XPATH,\n",
    "                       '//*[@id=\"knowledge-currency__updatable-data-column\"]/div[1]/div[2]/span[1]').get_attribute('data-value')\n",
    "\n",
    "navegador.close()\n",
    "print(\"Cotação Dolar:\",cotacao_dolar)"
   ]
  },
  {
   "cell_type": "code",
   "execution_count": null,
   "id": "94ee4ce3",
   "metadata": {},
   "outputs": [],
   "source": []
  }
 ],
 "metadata": {
  "kernelspec": {
   "display_name": "Python 3 (ipykernel)",
   "language": "python",
   "name": "python3"
  },
  "language_info": {
   "codemirror_mode": {
    "name": "ipython",
    "version": 3
   },
   "file_extension": ".py",
   "mimetype": "text/x-python",
   "name": "python",
   "nbconvert_exporter": "python",
   "pygments_lexer": "ipython3",
   "version": "3.9.7"
  }
 },
 "nbformat": 4,
 "nbformat_minor": 5
}
